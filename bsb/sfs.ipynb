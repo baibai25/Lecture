{
 "cells": [
  {
   "cell_type": "code",
   "execution_count": 24,
   "metadata": {},
   "outputs": [],
   "source": [
    "import pandas as pd\n",
    "import numpy as np\n",
    "from sklearn.datasets import load_wine\n",
    "from sklearn.model_selection import train_test_split\n",
    "from mlxtend.feature_selection import SequentialFeatureSelector as SFS\n",
    "from sklearn.neighbors import KNeighborsClassifier\n",
    "from mlxtend.plotting import plot_sequential_feature_selection as plot_sfs\n",
    "import matplotlib.pyplot as plt\n",
    "from sklearn import tree\n",
    "from sklearn.metrics import classification_report"
   ]
  },
  {
   "cell_type": "code",
   "execution_count": 16,
   "metadata": {},
   "outputs": [],
   "source": [
    "# Load dataset\n",
    "wine = load_wine()\n",
    "X, y = wine.data, wine.target\n",
    "feature_names = wine.feature_names\n",
    "X_train, X_test, y_train, y_test = train_test_split(X, y, test_size=0.4, random_state=0)"
   ]
  },
  {
   "cell_type": "code",
   "execution_count": 17,
   "metadata": {},
   "outputs": [],
   "source": [
    "# Sequential Forward Selection\n",
    "# 4-fold cross-validation, select 6 best features\n",
    "knn = KNeighborsClassifier()\n",
    "sfs = SFS(knn, k_features=13, forward=True, floating=False,\n",
    "           verbose=1, scoring='accuracy', cv=4)"
   ]
  },
  {
   "cell_type": "code",
   "execution_count": 18,
   "metadata": {},
   "outputs": [
    {
     "name": "stderr",
     "output_type": "stream",
     "text": [
      "[Parallel(n_jobs=1)]: Done  13 out of  13 | elapsed:    0.2s finished\n",
      "Features: 1/13[Parallel(n_jobs=1)]: Done  12 out of  12 | elapsed:    0.2s finished\n",
      "Features: 2/13[Parallel(n_jobs=1)]: Done  11 out of  11 | elapsed:    0.3s finished\n",
      "Features: 3/13[Parallel(n_jobs=1)]: Done  10 out of  10 | elapsed:    0.3s finished\n",
      "Features: 4/13[Parallel(n_jobs=1)]: Done   9 out of   9 | elapsed:    0.2s finished\n",
      "Features: 5/13[Parallel(n_jobs=1)]: Done   8 out of   8 | elapsed:    0.2s finished\n",
      "Features: 6/13[Parallel(n_jobs=1)]: Done   7 out of   7 | elapsed:    0.2s finished\n",
      "Features: 7/13[Parallel(n_jobs=1)]: Done   6 out of   6 | elapsed:    0.2s finished\n",
      "Features: 8/13[Parallel(n_jobs=1)]: Done   5 out of   5 | elapsed:    0.1s finished\n",
      "Features: 9/13[Parallel(n_jobs=1)]: Done   4 out of   4 | elapsed:    0.1s finished\n",
      "Features: 10/13[Parallel(n_jobs=1)]: Done   3 out of   3 | elapsed:    0.1s finished\n",
      "Features: 11/13[Parallel(n_jobs=1)]: Done   2 out of   2 | elapsed:    0.0s finished\n",
      "Features: 12/13[Parallel(n_jobs=1)]: Done   1 out of   1 | elapsed:    0.0s finished\n",
      "Features: 13/13"
     ]
    },
    {
     "data": {
      "text/plain": [
       "{1: {'avg_score': 0.76989664082687337,\n",
       "  'cv_scores': array([ 0.73333333,  0.73333333,  0.82222222,  0.79069767]),\n",
       "  'feature_idx': (6,),\n",
       "  'feature_names': ('flavanoids',)},\n",
       " 2: {'avg_score': 0.91059431524547807,\n",
       "  'cv_scores': array([ 0.75555556,  0.95555556,  0.97777778,  0.95348837]),\n",
       "  'feature_idx': (0, 6),\n",
       "  'feature_names': ('alcohol', 'flavanoids')},\n",
       " 3: {'avg_score': 0.92777777777777781,\n",
       "  'cv_scores': array([ 0.75555556,  0.95555556,  1.        ,  1.        ]),\n",
       "  'feature_idx': (0, 6, 9),\n",
       "  'feature_names': ('alcohol', 'flavanoids', 'color_intensity')},\n",
       " 4: {'avg_score': 0.94444444444444442,\n",
       "  'cv_scores': array([ 0.8       ,  0.97777778,  1.        ,  1.        ]),\n",
       "  'feature_idx': (0, 6, 8, 9),\n",
       "  'feature_names': ('alcohol',\n",
       "   'flavanoids',\n",
       "   'proanthocyanins',\n",
       "   'color_intensity')},\n",
       " 5: {'avg_score': 0.94444444444444442,\n",
       "  'cv_scores': array([ 0.8       ,  0.97777778,  1.        ,  1.        ]),\n",
       "  'feature_idx': (0, 6, 7, 8, 9),\n",
       "  'feature_names': ('alcohol',\n",
       "   'flavanoids',\n",
       "   'nonflavanoid_phenols',\n",
       "   'proanthocyanins',\n",
       "   'color_intensity')},\n",
       " 6: {'avg_score': 0.94444444444444442,\n",
       "  'cv_scores': array([ 0.8       ,  0.97777778,  1.        ,  1.        ]),\n",
       "  'feature_idx': (0, 6, 7, 8, 9, 10),\n",
       "  'feature_names': ('alcohol',\n",
       "   'flavanoids',\n",
       "   'nonflavanoid_phenols',\n",
       "   'proanthocyanins',\n",
       "   'color_intensity',\n",
       "   'hue')},\n",
       " 7: {'avg_score': 0.93307493540051678,\n",
       "  'cv_scores': array([ 0.8       ,  0.95555556,  1.        ,  0.97674419]),\n",
       "  'feature_idx': (0, 6, 7, 8, 9, 10, 11),\n",
       "  'feature_names': ('alcohol',\n",
       "   'flavanoids',\n",
       "   'nonflavanoid_phenols',\n",
       "   'proanthocyanins',\n",
       "   'color_intensity',\n",
       "   'hue',\n",
       "   'od280/od315_of_diluted_wines')},\n",
       " 8: {'avg_score': 0.92777777777777781,\n",
       "  'cv_scores': array([ 0.8       ,  0.93333333,  0.97777778,  1.        ]),\n",
       "  'feature_idx': (0, 3, 6, 7, 8, 9, 10, 11),\n",
       "  'feature_names': ('alcohol',\n",
       "   'alcalinity_of_ash',\n",
       "   'flavanoids',\n",
       "   'nonflavanoid_phenols',\n",
       "   'proanthocyanins',\n",
       "   'color_intensity',\n",
       "   'hue',\n",
       "   'od280/od315_of_diluted_wines')},\n",
       " 9: {'avg_score': 0.93888888888888888,\n",
       "  'cv_scores': array([ 0.82222222,  0.95555556,  0.97777778,  1.        ]),\n",
       "  'feature_idx': (0, 1, 3, 6, 7, 8, 9, 10, 11),\n",
       "  'feature_names': ('alcohol',\n",
       "   'malic_acid',\n",
       "   'alcalinity_of_ash',\n",
       "   'flavanoids',\n",
       "   'nonflavanoid_phenols',\n",
       "   'proanthocyanins',\n",
       "   'color_intensity',\n",
       "   'hue',\n",
       "   'od280/od315_of_diluted_wines')},\n",
       " 10: {'avg_score': 0.93888888888888888,\n",
       "  'cv_scores': array([ 0.82222222,  0.95555556,  0.97777778,  1.        ]),\n",
       "  'feature_idx': (0, 1, 2, 3, 6, 7, 8, 9, 10, 11),\n",
       "  'feature_names': ('alcohol',\n",
       "   'malic_acid',\n",
       "   'ash',\n",
       "   'alcalinity_of_ash',\n",
       "   'flavanoids',\n",
       "   'nonflavanoid_phenols',\n",
       "   'proanthocyanins',\n",
       "   'color_intensity',\n",
       "   'hue',\n",
       "   'od280/od315_of_diluted_wines')},\n",
       " 11: {'avg_score': 0.93333333333333335,\n",
       "  'cv_scores': array([ 0.8       ,  0.95555556,  0.97777778,  1.        ]),\n",
       "  'feature_idx': (0, 1, 2, 3, 5, 6, 7, 8, 9, 10, 11),\n",
       "  'feature_names': ('alcohol',\n",
       "   'malic_acid',\n",
       "   'ash',\n",
       "   'alcalinity_of_ash',\n",
       "   'total_phenols',\n",
       "   'flavanoids',\n",
       "   'nonflavanoid_phenols',\n",
       "   'proanthocyanins',\n",
       "   'color_intensity',\n",
       "   'hue',\n",
       "   'od280/od315_of_diluted_wines')},\n",
       " 12: {'avg_score': 0.80426356589147274,\n",
       "  'cv_scores': array([ 0.73333333,  0.77777778,  0.82222222,  0.88372093]),\n",
       "  'feature_idx': (0, 1, 2, 3, 4, 5, 6, 7, 8, 9, 10, 11),\n",
       "  'feature_names': ('alcohol',\n",
       "   'malic_acid',\n",
       "   'ash',\n",
       "   'alcalinity_of_ash',\n",
       "   'magnesium',\n",
       "   'total_phenols',\n",
       "   'flavanoids',\n",
       "   'nonflavanoid_phenols',\n",
       "   'proanthocyanins',\n",
       "   'color_intensity',\n",
       "   'hue',\n",
       "   'od280/od315_of_diluted_wines')},\n",
       " 13: {'avg_score': 0.68604651162790697,\n",
       "  'cv_scores': array([ 0.66666667,  0.66666667,  0.66666667,  0.74418605]),\n",
       "  'feature_idx': (0, 1, 2, 3, 4, 5, 6, 7, 8, 9, 10, 11, 12),\n",
       "  'feature_names': ('alcohol',\n",
       "   'malic_acid',\n",
       "   'ash',\n",
       "   'alcalinity_of_ash',\n",
       "   'magnesium',\n",
       "   'total_phenols',\n",
       "   'flavanoids',\n",
       "   'nonflavanoid_phenols',\n",
       "   'proanthocyanins',\n",
       "   'color_intensity',\n",
       "   'hue',\n",
       "   'od280/od315_of_diluted_wines',\n",
       "   'proline')}}"
      ]
     },
     "execution_count": 18,
     "metadata": {},
     "output_type": "execute_result"
    }
   ],
   "source": [
    "# Selection\n",
    "sfs = sfs.fit(X, y, custom_feature_names=feature_names)\n",
    "sfs.subsets_"
   ]
  },
  {
   "cell_type": "code",
   "execution_count": 19,
   "metadata": {},
   "outputs": [
    {
     "data": {
      "image/png": "[encoded data removed]",
      "text/plain": [
       "<Figure size 432x288 with 1 Axes>"
      ]
     },
     "metadata": {},
     "output_type": "display_data"
    }
   ],
   "source": [
    "fig1 = plot_sfs(sfs.get_metric_dict(), kind='std_dev')\n",
    "plt.title('Sequential Forward Selection (w. StdDev)')\n",
    "plt.grid()\n",
    "plt.savefig(\"sample.png\",format = 'png', dpi=300)\n",
    "plt.show()"
   ]
  },
  {
   "cell_type": "code",
   "execution_count": 20,
   "metadata": {},
   "outputs": [
    {
     "name": "stderr",
     "output_type": "stream",
     "text": [
      "[Parallel(n_jobs=1)]: Done  13 out of  13 | elapsed:    0.2s finished\n",
      "Features: 1/6[Parallel(n_jobs=1)]: Done  12 out of  12 | elapsed:    0.3s finished\n",
      "Features: 2/6[Parallel(n_jobs=1)]: Done  11 out of  11 | elapsed:    0.2s finished\n",
      "Features: 3/6[Parallel(n_jobs=1)]: Done  10 out of  10 | elapsed:    0.2s finished\n",
      "Features: 4/6[Parallel(n_jobs=1)]: Done   9 out of   9 | elapsed:    0.2s finished\n",
      "Features: 5/6[Parallel(n_jobs=1)]: Done   8 out of   8 | elapsed:    0.2s finished\n",
      "Features: 6/6"
     ]
    },
    {
     "name": "stdout",
     "output_type": "stream",
     "text": [
      "Selected features: (0, 6, 7, 8, 9, 10)\n"
     ]
    }
   ],
   "source": [
    "sfs1 = SFS(knn, k_features=6, forward=True, floating=False,\n",
    "           verbose=1, scoring='accuracy', cv=4)\n",
    "sfs1 = sfs1.fit(X, y)\n",
    "print('Selected features:', sfs1.k_feature_idx_)"
   ]
  },
  {
   "cell_type": "code",
   "execution_count": 21,
   "metadata": {},
   "outputs": [],
   "source": [
    "X_train_sfs = sfs1.transform(X_train)\n",
    "X_test_sfs = sfs1.transform(X_test)"
   ]
  },
  {
   "cell_type": "code",
   "execution_count": 40,
   "metadata": {},
   "outputs": [
    {
     "name": "stdout",
     "output_type": "stream",
     "text": [
      "             precision    recall  f1-score   support\n",
      "\n",
      "          0       0.91      0.91      0.91        22\n",
      "          1       0.93      0.87      0.90        31\n",
      "          2       0.90      1.00      0.95        19\n",
      "\n",
      "avg / total       0.92      0.92      0.92        72\n",
      "\n"
     ]
    }
   ],
   "source": [
    "clf_sfs = tree.DecisionTreeClassifier(random_state=0)\n",
    "clf_sfs = clf_sfs.fit(X_train_sfs, y_train)\n",
    "pred_sfs = clf_sfs.predict(X_test_sfs)\n",
    "print(classification_report(y_test, pred_sfs))"
   ]
  },
  {
   "cell_type": "code",
   "execution_count": 41,
   "metadata": {},
   "outputs": [
    {
     "name": "stdout",
     "output_type": "stream",
     "text": [
      "             precision    recall  f1-score   support\n",
      "\n",
      "          0       0.91      0.95      0.93        22\n",
      "          1       0.93      0.87      0.90        31\n",
      "          2       0.90      0.95      0.92        19\n",
      "\n",
      "avg / total       0.92      0.92      0.92        72\n",
      "\n"
     ]
    }
   ],
   "source": [
    "clf0 = tree.DecisionTreeClassifier(random_state=0)\n",
    "clf0 = clf0.fit(X_train, y_train)\n",
    "pred_clf0 = clf0.predict(X_test)\n",
    "print(classification_report(y_test, pred_clf0))"
   ]
  },
  {
   "cell_type": "code",
   "execution_count": null,
   "metadata": {},
   "outputs": [],
   "source": []
  }
 ],
 "metadata": {
  "kernelspec": {
   "display_name": "Python 3",
   "language": "python",
   "name": "python3"
  },
  "language_info": {
   "codemirror_mode": {
    "name": "ipython",
    "version": 3
   },
   "file_extension": ".py",
   "mimetype": "text/x-python",
   "name": "python",
   "nbconvert_exporter": "python",
   "pygments_lexer": "ipython3",
   "version": "3.6.4"
  },
  "varInspector": {
   "cols": {
    "lenName": 16,
    "lenType": 16,
    "lenVar": 40
   },
   "kernels_config": {
    "python": {
     "delete_cmd_postfix": "",
     "delete_cmd_prefix": "del ",
     "library": "var_list.py",
     "varRefreshCmd": "print(var_dic_list())"
    },
    "r": {
     "delete_cmd_postfix": ") ",
     "delete_cmd_prefix": "rm(",
     "library": "var_list.r",
     "varRefreshCmd": "cat(var_dic_list()) "
    }
   },
   "types_to_exclude": [
    "module",
    "function",
    "builtin_function_or_method",
    "instance",
    "_Feature"
   ],
   "window_display": false
  }
 },
 "nbformat": 4,
 "nbformat_minor": 2
}
