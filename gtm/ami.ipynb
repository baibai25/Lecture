{
 "cells": [
  {
   "cell_type": "code",
   "execution_count": 1,
   "metadata": {},
   "outputs": [],
   "source": [
    "import pandas as pd\n",
    "import numpy as np\n",
    "import matplotlib.pyplot as plt\n",
    "import seaborn as sns"
   ]
  },
  {
   "cell_type": "code",
   "execution_count": 2,
   "metadata": {},
   "outputs": [],
   "source": [
    "df = pd.read_table('LORENZ.DAT', header=None)"
   ]
  },
  {
   "cell_type": "code",
   "execution_count": null,
   "metadata": {},
   "outputs": [],
   "source": [
    "df.head()"
   ]
  },
  {
   "cell_type": "code",
   "execution_count": null,
   "metadata": {},
   "outputs": [],
   "source": [
    "df.shape"
   ]
  },
  {
   "cell_type": "code",
   "execution_count": null,
   "metadata": {},
   "outputs": [],
   "source": [
    "plt.plot(df[0:5000])"
   ]
  },
  {
   "cell_type": "code",
   "execution_count": 99,
   "metadata": {},
   "outputs": [
    {
     "data": {
      "image/png": "[encoded data removed]",
      "text/plain": [
       "<Figure size 432x288 with 1 Axes>"
      ]
     },
     "metadata": {
      "needs_background": "light"
     },
     "output_type": "display_data"
    }
   ],
   "source": [
    "a = np.array(df).flatten()\n",
    "counts, edges, img = plt.hist(a, bins=10)"
   ]
  },
  {
   "cell_type": "code",
   "execution_count": 100,
   "metadata": {},
   "outputs": [],
   "source": [
    "# データが所属する場所の取得\n",
    "bin_indices = np.digitize(a, edges)\n",
    "discrete = a[bin_indices] #最頻値"
   ]
  },
  {
   "cell_type": "code",
   "execution_count": 92,
   "metadata": {},
   "outputs": [
    {
     "data": {
      "text/plain": [
       "array([ 276., 1308., 1264., 1841., 2870., 3065., 2280., 1516., 1516.,\n",
       "        448.])"
      ]
     },
     "execution_count": 92,
     "metadata": {},
     "output_type": "execute_result"
    }
   ],
   "source": [
    "counts"
   ]
  },
  {
   "cell_type": "code",
   "execution_count": 88,
   "metadata": {},
   "outputs": [],
   "source": [
    "test = []\n",
    "for i in range(len(a)):\n",
    "    test.append([a[i], bin_indices[i]])"
   ]
  },
  {
   "cell_type": "code",
   "execution_count": 93,
   "metadata": {},
   "outputs": [
    {
     "data": {
      "text/plain": [
       "6"
      ]
     },
     "execution_count": 93,
     "metadata": {},
     "output_type": "execute_result"
    }
   ],
   "source": [
    "test[0][1]"
   ]
  },
  {
   "cell_type": "code",
   "execution_count": 95,
   "metadata": {},
   "outputs": [
    {
     "data": {
      "text/plain": [
       "2280.0"
      ]
     },
     "execution_count": 95,
     "metadata": {},
     "output_type": "execute_result"
    }
   ],
   "source": [
    "counts[test[0][1]]"
   ]
  },
  {
   "cell_type": "code",
   "execution_count": 103,
   "metadata": {},
   "outputs": [],
   "source": [
    "mi_list = []\n",
    "t_list = []\n",
    "#for t in range(1, 2):\n",
    "mi = 0\n",
    "t = 10\n",
    "# ずらしたぶん最後のサンプルを削除\n",
    "#unlagged = discrete[:-t]\n",
    "#lagged = np.roll(discrete, -t)[:-t]\n",
    "unlagged = a[:-t]\n",
    "lagged = np.roll(a, -t)[:-t]\n",
    "\n",
    "for i in range(len(unlagged)):\n",
    "    p_ab = (lagged[i] * unlagged[i]) / (len(unlagged))\n",
    "    p_a = lagged[i] / (len(unlagged))\n",
    "    p_b = unlagged[i] / (len(unlagged))\n",
    "    mi += p_ab * np.log2(p_ab / (p_a * p_b))\n",
    "mi_list.append(mi)\n",
    "t_list.append(t)"
   ]
  },
  {
   "cell_type": "code",
   "execution_count": 15,
   "metadata": {},
   "outputs": [
    {
     "data": {
      "text/plain": [
       "[761.6088068396444]"
      ]
     },
     "execution_count": 15,
     "metadata": {},
     "output_type": "execute_result"
    }
   ],
   "source": [
    "mi_list"
   ]
  },
  {
   "cell_type": "code",
   "execution_count": null,
   "metadata": {},
   "outputs": [],
   "source": [
    "mi_list[0:10]"
   ]
  },
  {
   "cell_type": "code",
   "execution_count": null,
   "metadata": {},
   "outputs": [],
   "source": [
    "plt.plot(t_list, mi_list)"
   ]
  },
  {
   "cell_type": "code",
   "execution_count": 106,
   "metadata": {},
   "outputs": [
    {
     "data": {
      "image/png": "[encoded data removed]",
      "text/plain": [
       "<Figure size 432x288 with 1 Axes>"
      ]
     },
     "metadata": {
      "needs_background": "light"
     },
     "output_type": "display_data"
    }
   ],
   "source": [
    "fig = plt.figure()\n",
    "ax = fig.add_subplot(111)\n",
    "counts, xedges, yedges, image = ax.hist2d(unlagged, lagged, bins=10, cmap=plt.cm.jet)"
   ]
  },
  {
   "cell_type": "code",
   "execution_count": 109,
   "metadata": {},
   "outputs": [
    {
     "data": {
      "text/plain": [
       "array([[   2.,   63.,  131.,   75.,    5.,    0.,    0.,    0.,    0.,\n",
       "           0.],\n",
       "       [  96.,  390.,  411.,  335.,   76.,    0.,    0.,    0.,    0.,\n",
       "           0.],\n",
       "       [ 164.,  530.,   21.,  273.,  263.,   13.,    0.,    0.,    0.,\n",
       "           0.],\n",
       "       [  14.,  325.,  606.,  288.,  509.,   99.,    0.,    0.,    0.,\n",
       "           0.],\n",
       "       [   0.,    0.,   95.,  870., 1515.,  384.,    6.,    0.,    0.,\n",
       "           0.],\n",
       "       [   0.,    0.,    0.,    0.,  440., 1693.,  890.,   42.,    0.,\n",
       "           0.],\n",
       "       [   0.,    0.,    0.,    0.,   56.,  554.,  568.,  767.,  320.,\n",
       "          11.],\n",
       "       [   0.,    0.,    0.,    0.,    6.,  245.,  378.,   89.,  564.,\n",
       "         230.],\n",
       "       [   0.,    0.,    0.,    0.,    0.,   63.,  362.,  401.,  493.,\n",
       "         195.],\n",
       "       [   0.,    0.,    0.,    0.,    0.,    4.,   76.,  217.,  139.,\n",
       "          12.]])"
      ]
     },
     "execution_count": 109,
     "metadata": {},
     "output_type": "execute_result"
    }
   ],
   "source": [
    "counts"
   ]
  },
  {
   "cell_type": "markdown",
   "metadata": {},
   "source": [
    "### Ref\n",
    "+ http://www.node99.org/tutorials/ar/\n",
    "+ http://haretoke.hatenablog.jp/entry/2017/07/18/171819"
   ]
  },
  {
   "cell_type": "code",
   "execution_count": null,
   "metadata": {},
   "outputs": [],
   "source": []
  }
 ],
 "metadata": {
  "kernelspec": {
   "display_name": "Python 3",
   "language": "python",
   "name": "python3"
  },
  "language_info": {
   "codemirror_mode": {
    "name": "ipython",
    "version": 3
   },
   "file_extension": ".py",
   "mimetype": "text/x-python",
   "name": "python",
   "nbconvert_exporter": "python",
   "pygments_lexer": "ipython3",
   "version": "3.6.5"
  },
  "varInspector": {
   "cols": {
    "lenName": 16,
    "lenType": 16,
    "lenVar": 40
   },
   "kernels_config": {
    "python": {
     "delete_cmd_postfix": "",
     "delete_cmd_prefix": "del ",
     "library": "var_list.py",
     "varRefreshCmd": "print(var_dic_list())"
    },
    "r": {
     "delete_cmd_postfix": ") ",
     "delete_cmd_prefix": "rm(",
     "library": "var_list.r",
     "varRefreshCmd": "cat(var_dic_list()) "
    }
   },
   "position": {
    "height": "388.667px",
    "left": "767.333px",
    "right": "20px",
    "top": "120px",
    "width": "492.667px"
   },
   "types_to_exclude": [
    "module",
    "function",
    "builtin_function_or_method",
    "instance",
    "_Feature"
   ],
   "window_display": false
  }
 },
 "nbformat": 4,
 "nbformat_minor": 2
}
