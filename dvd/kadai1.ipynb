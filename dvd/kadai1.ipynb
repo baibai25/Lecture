{
 "cells": [
  {
   "cell_type": "markdown",
   "metadata": {},
   "source": [
    "# Q1"
   ]
  },
  {
   "cell_type": "code",
   "execution_count": 1,
   "metadata": {},
   "outputs": [],
   "source": [
    "import numpy as np\n",
    "import pandas as pd\n",
    "import matplotlib.pyplot as plt\n",
    "import seaborn as sns\n",
    "from collections import Counter\n",
    "sns.set_style('whitegrid')"
   ]
  },
  {
   "cell_type": "code",
   "execution_count": 2,
   "metadata": {},
   "outputs": [
    {
     "data": {
      "text/plain": [
       "array([[17, 11, 11],\n",
       "       [17,  9,  8],\n",
       "       [12, 13, 19]])"
      ]
     },
     "execution_count": 2,
     "metadata": {},
     "output_type": "execute_result"
    }
   ],
   "source": [
    "data = np.array([[17, 11, 11], [17, 9, 8], [12, 13, 19]])\n",
    "data"
   ]
  },
  {
   "cell_type": "code",
   "execution_count": 3,
   "metadata": {},
   "outputs": [
    {
     "data": {
      "text/plain": [
       "array([[ 8.        , 11.33333333, -5.33333333],\n",
       "       [11.33333333, 16.22222222, -8.55555556],\n",
       "       [-5.33333333, -8.55555556,  9.55555556]])"
      ]
     },
     "execution_count": 3,
     "metadata": {},
     "output_type": "execute_result"
    }
   ],
   "source": [
    "np.cov(data, bias=1, rowvar=1)"
   ]
  },
  {
   "cell_type": "code",
   "execution_count": 4,
   "metadata": {},
   "outputs": [
    {
     "name": "stdout",
     "output_type": "stream",
     "text": [
      "[ 4. -2. -2.] [ 5.66666667 -2.33333333 -3.33333333] [-2.66666667 -1.66666667  4.33333333]\n"
     ]
    }
   ],
   "source": [
    "a = data[0] - data[0].mean()\n",
    "b = data[1] - data[1].mean()\n",
    "c = data[2] - data[2].mean()\n",
    "print(a, b, c)"
   ]
  },
  {
   "cell_type": "code",
   "execution_count": 5,
   "metadata": {},
   "outputs": [
    {
     "name": "stdout",
     "output_type": "stream",
     "text": [
      "covariance matrix:\n",
      "[[ 8.         11.33333333 -5.33333333]\n",
      " [11.33333333 16.22222222 -8.55555556]\n",
      " [-5.33333333 -8.55555556  9.55555556]]\n"
     ]
    }
   ],
   "source": [
    "ab = (a * b).sum() / 3\n",
    "ac = (a * c).sum() / 3\n",
    "bc = (b * c).sum() / 3\n",
    "\n",
    "cov = np.array([\n",
    "    [np.var(data[0]), ab, ac],\n",
    "    [ab, np.var(data[1]), bc],\n",
    "    [ac, bc, np.var(data[2])]\n",
    "               ])\n",
    "print('covariance matrix:')\n",
    "print(cov)"
   ]
  },
  {
   "cell_type": "code",
   "execution_count": 6,
   "metadata": {},
   "outputs": [
    {
     "data": {
      "text/plain": [
       "13.11111111111111"
      ]
     },
     "execution_count": 6,
     "metadata": {},
     "output_type": "execute_result"
    }
   ],
   "source": [
    "# generalized variance\n",
    "np.var(np.hstack(data))"
   ]
  },
  {
   "cell_type": "markdown",
   "metadata": {},
   "source": [
    "# Q2"
   ]
  },
  {
   "cell_type": "code",
   "execution_count": 7,
   "metadata": {},
   "outputs": [],
   "source": [
    "X = np.array([69, 74, 68, 70, 72, 67, 66, 70,\n",
    "              76, 68, 72, 79, 74, 67, 66, 71, 74, 75, 75, 76])\n",
    "Y = np.array([153, 175, 155, 135, 172, 150, 115, 137, 200, 130,\n",
    "              140, 265, 185, 112, 140, 150, 165, 185, 210, 220])"
   ]
  },
  {
   "cell_type": "code",
   "execution_count": 8,
   "metadata": {},
   "outputs": [
    {
     "name": "stdout",
     "output_type": "stream",
     "text": [
      "Mean: 71.45\n",
      "Median: 71.5\n",
      "Mode: (74, 3)\n"
     ]
    }
   ],
   "source": [
    "# (a)\n",
    "mode = Counter(X)\n",
    "\n",
    "print('Mean:', X.mean())\n",
    "print('Median:', np.median(X))\n",
    "print('Mode:', mode.most_common()[0])"
   ]
  },
  {
   "cell_type": "code",
   "execution_count": 9,
   "metadata": {},
   "outputs": [
    {
     "name": "stdout",
     "output_type": "stream",
     "text": [
      "Variance of Y: 1369.2099999999998\n"
     ]
    }
   ],
   "source": [
    "# (b)\n",
    "print('Variance of Y:', np.var(Y))"
   ]
  },
  {
   "cell_type": "code",
   "execution_count": 10,
   "metadata": {},
   "outputs": [
    {
     "name": "stderr",
     "output_type": "stream",
     "text": [
      "/home/yura/anaconda3/lib/python3.6/site-packages/scipy/stats/stats.py:1713: FutureWarning: Using a non-tuple sequence for multidimensional indexing is deprecated; use `arr[tuple(seq)]` instead of `arr[seq]`. In the future this will be interpreted as an array index, `arr[np.array(seq)]`, which will result either in an error or a different result.\n",
      "  return np.add.reduce(sorted[indexer] * weights, axis=axis) / sumval\n"
     ]
    },
    {
     "data": {
      "text/plain": [
       "<matplotlib.axes._subplots.AxesSubplot at 0x7fdccf1b5b70>"
      ]
     },
     "execution_count": 10,
     "metadata": {},
     "output_type": "execute_result"
    },
    {
     "data": {
      "image/png": "[encoded data removed]",
      "text/plain": [
       "<Figure size 432x288 with 1 Axes>"
      ]
     },
     "metadata": {
      "needs_background": "light"
     },
     "output_type": "display_data"
    }
   ],
   "source": [
    "# (c)\n",
    "x_normal = np.random.normal(X.mean(), X.std(), 1000)\n",
    "sns.distplot(x_normal, bins=10)\n",
    "#plt.hist(x_normal, bins=10)"
   ]
  },
  {
   "cell_type": "code",
   "execution_count": 11,
   "metadata": {},
   "outputs": [
    {
     "name": "stdout",
     "output_type": "stream",
     "text": [
      "Probability:  0.011\n"
     ]
    }
   ],
   "source": [
    "# (d)\n",
    "sort_x = sorted(x_normal)\n",
    "count = 0\n",
    "\n",
    "for i in range(len(sort_x)):\n",
    "    \n",
    "    if (80 <= sort_x[i]):\n",
    "        count += 1\n",
    "\n",
    "prob = count / len(sort_x)\n",
    "print('Probability: ', prob)"
   ]
  },
  {
   "cell_type": "code",
   "execution_count": 12,
   "metadata": {},
   "outputs": [
    {
     "name": "stdout",
     "output_type": "stream",
     "text": [
      "2-D mean:  [71.45, 164.7]\n"
     ]
    }
   ],
   "source": [
    "# (e)\n",
    "mu = [X.mean(), Y.mean()]\n",
    "print('2-D mean: ', mu)"
   ]
  },
  {
   "cell_type": "code",
   "execution_count": 13,
   "metadata": {},
   "outputs": [
    {
     "data": {
      "text/plain": [
       "array([[ 69,  74,  68,  70,  72,  67,  66,  70,  76,  68,  72,  79,  74,\n",
       "         67,  66,  71,  74,  75,  75,  76],\n",
       "       [153, 175, 155, 135, 172, 150, 115, 137, 200, 130, 140, 265, 185,\n",
       "        112, 140, 150, 165, 185, 210, 220]])"
      ]
     },
     "execution_count": 13,
     "metadata": {},
     "output_type": "execute_result"
    }
   ],
   "source": [
    "data = np.vstack((X, Y))\n",
    "data"
   ]
  },
  {
   "cell_type": "code",
   "execution_count": 14,
   "metadata": {},
   "outputs": [
    {
     "name": "stdout",
     "output_type": "stream",
     "text": [
      "covariance matrix:\n",
      "[[  14.57631579  128.87894737]\n",
      " [ 128.87894737 1441.27368421]]\n"
     ]
    }
   ],
   "source": [
    "print('covariance matrix:')\n",
    "print(np.cov(data, rowvar=1, bias=0))"
   ]
  },
  {
   "cell_type": "code",
   "execution_count": 15,
   "metadata": {},
   "outputs": [
    {
     "name": "stdout",
     "output_type": "stream",
     "text": [
      "r =  0.8891701351748048\n"
     ]
    }
   ],
   "source": [
    "# (f)\n",
    "print('r = ', np.corrcoef(X, Y, rowvar=True)[0, 1])"
   ]
  },
  {
   "cell_type": "code",
   "execution_count": 16,
   "metadata": {},
   "outputs": [
    {
     "data": {
      "text/plain": [
       "<matplotlib.axes._subplots.AxesSubplot at 0x7fdccd026518>"
      ]
     },
     "execution_count": 16,
     "metadata": {},
     "output_type": "execute_result"
    },
    {
     "data": {
      "image/png": "[encoded data removed]",
      "text/plain": [
       "<Figure size 432x288 with 1 Axes>"
      ]
     },
     "metadata": {
      "needs_background": "light"
     },
     "output_type": "display_data"
    }
   ],
   "source": [
    "# (g)\n",
    "sns.scatterplot(X, Y)"
   ]
  },
  {
   "cell_type": "code",
   "execution_count": 17,
   "metadata": {},
   "outputs": [
    {
     "data": {
      "text/plain": [
       "<matplotlib.axes._subplots.AxesSubplot at 0x7fdcc9077cf8>"
      ]
     },
     "execution_count": 17,
     "metadata": {},
     "output_type": "execute_result"
    },
    {
     "data": {
      "image/png": "[encoded data removed]",
      "text/plain": [
       "<Figure size 432x288 with 1 Axes>"
      ]
     },
     "metadata": {
      "needs_background": "light"
     },
     "output_type": "display_data"
    }
   ],
   "source": [
    "# (h)\n",
    "from sklearn.linear_model import LinearRegression\n",
    "sns.scatterplot(X, Y/2)"
   ]
  },
  {
   "cell_type": "code",
   "execution_count": 18,
   "metadata": {},
   "outputs": [
    {
     "data": {
      "text/plain": [
       "LinearRegression(copy_X=True, fit_intercept=True, n_jobs=None,\n",
       "         normalize=False)"
      ]
     },
     "execution_count": 18,
     "metadata": {},
     "output_type": "execute_result"
    }
   ],
   "source": [
    "Y1 = Y/2\n",
    "\n",
    "clf = LinearRegression()\n",
    "clf.fit(X.reshape(-1, 1), Y1.reshape(-1, 1))"
   ]
  },
  {
   "cell_type": "code",
   "execution_count": 19,
   "metadata": {},
   "outputs": [
    {
     "name": "stdout",
     "output_type": "stream",
     "text": [
      "weight =  [[4.42083409]] * age + [-233.51859541]\n"
     ]
    }
   ],
   "source": [
    "coef = clf.coef_\n",
    "intercept = clf.intercept_\n",
    "score = clf.score(X.reshape(-1, 1), Y1.reshape(-1, 1))\n",
    "print('weight = ', coef, '* age +', intercept)"
   ]
  },
  {
   "cell_type": "code",
   "execution_count": null,
   "metadata": {},
   "outputs": [],
   "source": []
  }
 ],
 "metadata": {
  "kernelspec": {
   "display_name": "Python 3",
   "language": "python",
   "name": "python3"
  },
  "language_info": {
   "codemirror_mode": {
    "name": "ipython",
    "version": 3
   },
   "file_extension": ".py",
   "mimetype": "text/x-python",
   "name": "python",
   "nbconvert_exporter": "python",
   "pygments_lexer": "ipython3",
   "version": "3.6.5"
  }
 },
 "nbformat": 4,
 "nbformat_minor": 2
}
