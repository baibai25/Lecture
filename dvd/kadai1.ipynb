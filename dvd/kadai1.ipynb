{
 "cells": [
  {
   "cell_type": "code",
   "execution_count": 104,
   "metadata": {},
   "outputs": [],
   "source": [
    "import numpy as np\n",
    "import pandas as pd\n",
    "import matplotlib.pyplot as plt\n",
    "import seaborn as sns\n",
    "from collections import Counter\n",
    "sns.set_style('whitegrid')"
   ]
  },
  {
   "cell_type": "code",
   "execution_count": 90,
   "metadata": {},
   "outputs": [
    {
     "data": {
      "text/plain": [
       "array([[17, 11, 11],\n",
       "       [17,  9,  8],\n",
       "       [12, 13, 19]])"
      ]
     },
     "execution_count": 90,
     "metadata": {},
     "output_type": "execute_result"
    }
   ],
   "source": [
    "data = np.array([[17, 11, 11], [17, 9, 8], [12, 13, 19]])\n",
    "data"
   ]
  },
  {
   "cell_type": "code",
   "execution_count": 70,
   "metadata": {},
   "outputs": [
    {
     "data": {
      "text/plain": [
       "array([[ 8.        , 11.33333333, -5.33333333],\n",
       "       [11.33333333, 16.22222222, -8.55555556],\n",
       "       [-5.33333333, -8.55555556,  9.55555556]])"
      ]
     },
     "execution_count": 70,
     "metadata": {},
     "output_type": "execute_result"
    }
   ],
   "source": [
    "np.cov(data, bias=1, rowvar=1)"
   ]
  },
  {
   "cell_type": "code",
   "execution_count": 72,
   "metadata": {},
   "outputs": [
    {
     "name": "stdout",
     "output_type": "stream",
     "text": [
      "[ 4. -2. -2.] [ 5.66666667 -2.33333333 -3.33333333] [-2.66666667 -1.66666667  4.33333333]\n"
     ]
    }
   ],
   "source": [
    "a = data[0] - data[0].mean()\n",
    "b = data[1] - data[1].mean()\n",
    "c = data[2] - data[2].mean()\n",
    "print(a, b, c)"
   ]
  },
  {
   "cell_type": "code",
   "execution_count": 89,
   "metadata": {},
   "outputs": [
    {
     "name": "stdout",
     "output_type": "stream",
     "text": [
      "[[ 8.         11.33333333 -5.33333333]\n",
      " [11.33333333 16.22222222 -8.55555556]\n",
      " [-5.33333333 -8.55555556  9.55555556]]\n"
     ]
    }
   ],
   "source": [
    "ab = (a * b).sum() / 3\n",
    "ac = (a * c).sum() / 3\n",
    "bc = (b * c).sum() / 3\n",
    "\n",
    "cov = np.array([\n",
    "    [np.var(data[0]), ab, ac],\n",
    "    [ab, np.var(data[1]), bc],\n",
    "    [ac, bc, np.var(data[2])]\n",
    "               ])\n",
    "print(cov)"
   ]
  },
  {
   "cell_type": "code",
   "execution_count": 93,
   "metadata": {},
   "outputs": [],
   "source": [
    "X = np.array([69, 74, 68, 70, 72, 67, 66, 70,\n",
    "              76, 68, 72, 79, 74, 67, 66, 71, 74, 75, 75, 76])\n",
    "Y = np.array([153, 175, 155, 135, 172, 150, 115, 137, 200, 130,\n",
    "              140, 265, 185, 112, 140, 150, 165, 185, 210, 220])"
   ]
  },
  {
   "cell_type": "code",
   "execution_count": 112,
   "metadata": {},
   "outputs": [
    {
     "name": "stdout",
     "output_type": "stream",
     "text": [
      "Mean:  71.45\n",
      "Median:  71.5\n",
      "Mode:  (74, 3)\n"
     ]
    }
   ],
   "source": [
    "mode = Counter(X)\n",
    "\n",
    "print('Mean: ', X.mean())\n",
    "print('Median: ', np.median(X))\n",
    "print('Mode: ', mode.most_common()[0])"
   ]
  },
  {
   "cell_type": "code",
   "execution_count": 113,
   "metadata": {},
   "outputs": [
    {
     "data": {
      "text/plain": [
       "1369.2099999999998"
      ]
     },
     "execution_count": 113,
     "metadata": {},
     "output_type": "execute_result"
    }
   ],
   "source": [
    "np.var(Y)"
   ]
  },
  {
   "cell_type": "code",
   "execution_count": 139,
   "metadata": {},
   "outputs": [],
   "source": [
    "x_normal = np.random.normal(X.mean(), X.std(), 20)"
   ]
  },
  {
   "cell_type": "code",
   "execution_count": 140,
   "metadata": {},
   "outputs": [
    {
     "data": {
      "text/plain": [
       "<matplotlib.axes._subplots.AxesSubplot at 0x7f276bf7ffd0>"
      ]
     },
     "execution_count": 140,
     "metadata": {},
     "output_type": "execute_result"
    },
    {
     "data": {
      "image/png": "[encoded data removed]",
      "text/plain": [
       "<Figure size 432x288 with 1 Axes>"
      ]
     },
     "metadata": {},
     "output_type": "display_data"
    }
   ],
   "source": [
    "sns.distplot(x_normal, bins=10)\n",
    "#np.histogram(x_normal, bins=10)"
   ]
  },
  {
   "cell_type": "code",
   "execution_count": null,
   "metadata": {},
   "outputs": [],
   "source": []
  }
 ],
 "metadata": {
  "kernelspec": {
   "display_name": "Python 3",
   "language": "python",
   "name": "python3"
  },
  "language_info": {
   "codemirror_mode": {
    "name": "ipython",
    "version": 3
   },
   "file_extension": ".py",
   "mimetype": "text/x-python",
   "name": "python",
   "nbconvert_exporter": "python",
   "pygments_lexer": "ipython3",
   "version": "3.6.5"
  }
 },
 "nbformat": 4,
 "nbformat_minor": 2
}
