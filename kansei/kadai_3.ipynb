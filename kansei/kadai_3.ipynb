{
 "cells": [
  {
   "cell_type": "code",
   "execution_count": 1,
   "metadata": {},
   "outputs": [],
   "source": [
    "import pandas as pd\n",
    "import numpy as np\n",
    "import matplotlib.pyplot as plt\n",
    "import seaborn as sns\n",
    "sns.set_style('whitegrid')"
   ]
  },
  {
   "cell_type": "code",
   "execution_count": 2,
   "metadata": {},
   "outputs": [],
   "source": [
    "# load data\n",
    "df = pd.read_csv('kadai3.csv', header=None, index_col=0)\n",
    "zscore = (df-df.mean()) / (df.std())"
   ]
  },
  {
   "cell_type": "code",
   "execution_count": 3,
   "metadata": {},
   "outputs": [
    {
     "data": {
      "text/html": [
       "<div>\n",
       "<style scoped>\n",
       "    .dataframe tbody tr th:only-of-type {\n",
       "        vertical-align: middle;\n",
       "    }\n",
       "\n",
       "    .dataframe tbody tr th {\n",
       "        vertical-align: top;\n",
       "    }\n",
       "\n",
       "    .dataframe thead th {\n",
       "        text-align: right;\n",
       "    }\n",
       "</style>\n",
       "<table border=\"1\" class=\"dataframe\">\n",
       "  <thead>\n",
       "    <tr style=\"text-align: right;\">\n",
       "      <th></th>\n",
       "      <th>1</th>\n",
       "      <th>2</th>\n",
       "      <th>3</th>\n",
       "      <th>4</th>\n",
       "      <th>5</th>\n",
       "      <th>6</th>\n",
       "      <th>7</th>\n",
       "      <th>8</th>\n",
       "      <th>9</th>\n",
       "      <th>10</th>\n",
       "    </tr>\n",
       "    <tr>\n",
       "      <th>0</th>\n",
       "      <th></th>\n",
       "      <th></th>\n",
       "      <th></th>\n",
       "      <th></th>\n",
       "      <th></th>\n",
       "      <th></th>\n",
       "      <th></th>\n",
       "      <th></th>\n",
       "      <th></th>\n",
       "      <th></th>\n",
       "    </tr>\n",
       "  </thead>\n",
       "  <tbody>\n",
       "    <tr>\n",
       "      <th>Sample1</th>\n",
       "      <td>-0.470387</td>\n",
       "      <td>0.708396</td>\n",
       "      <td>0.462790</td>\n",
       "      <td>1.023533</td>\n",
       "      <td>0.692545</td>\n",
       "      <td>1.195940</td>\n",
       "      <td>0.000000</td>\n",
       "      <td>-1.080293</td>\n",
       "      <td>0.423026</td>\n",
       "      <td>-0.462790</td>\n",
       "    </tr>\n",
       "    <tr>\n",
       "      <th>Sample2</th>\n",
       "      <td>-1.276766</td>\n",
       "      <td>-0.991754</td>\n",
       "      <td>1.018138</td>\n",
       "      <td>1.023533</td>\n",
       "      <td>-0.585999</td>\n",
       "      <td>-0.783547</td>\n",
       "      <td>1.137593</td>\n",
       "      <td>1.207387</td>\n",
       "      <td>1.148213</td>\n",
       "      <td>1.203254</td>\n",
       "    </tr>\n",
       "    <tr>\n",
       "      <th>Sample3</th>\n",
       "      <td>-0.470387</td>\n",
       "      <td>-1.558471</td>\n",
       "      <td>1.018138</td>\n",
       "      <td>0.255883</td>\n",
       "      <td>0.053273</td>\n",
       "      <td>-1.278418</td>\n",
       "      <td>0.568796</td>\n",
       "      <td>0.444827</td>\n",
       "      <td>0.423026</td>\n",
       "      <td>-0.462790</td>\n",
       "    </tr>\n",
       "    <tr>\n",
       "      <th>Sample4</th>\n",
       "      <td>-0.470387</td>\n",
       "      <td>-0.425038</td>\n",
       "      <td>1.018138</td>\n",
       "      <td>0.255883</td>\n",
       "      <td>0.692545</td>\n",
       "      <td>-0.783547</td>\n",
       "      <td>0.568796</td>\n",
       "      <td>1.207387</td>\n",
       "      <td>1.148213</td>\n",
       "      <td>-1.018138</td>\n",
       "    </tr>\n",
       "    <tr>\n",
       "      <th>Sample5</th>\n",
       "      <td>0.335991</td>\n",
       "      <td>-0.991754</td>\n",
       "      <td>1.018138</td>\n",
       "      <td>-1.279416</td>\n",
       "      <td>0.692545</td>\n",
       "      <td>-0.783547</td>\n",
       "      <td>-1.137593</td>\n",
       "      <td>-0.317733</td>\n",
       "      <td>1.148213</td>\n",
       "      <td>-0.462790</td>\n",
       "    </tr>\n",
       "    <tr>\n",
       "      <th>Sample6</th>\n",
       "      <td>-0.470387</td>\n",
       "      <td>1.275113</td>\n",
       "      <td>-0.647906</td>\n",
       "      <td>0.255883</td>\n",
       "      <td>0.692545</td>\n",
       "      <td>0.701068</td>\n",
       "      <td>0.568796</td>\n",
       "      <td>-1.080293</td>\n",
       "      <td>-1.027348</td>\n",
       "      <td>-1.018138</td>\n",
       "    </tr>\n",
       "    <tr>\n",
       "      <th>Sample7</th>\n",
       "      <td>-1.276766</td>\n",
       "      <td>1.275113</td>\n",
       "      <td>-1.203254</td>\n",
       "      <td>1.023533</td>\n",
       "      <td>0.053273</td>\n",
       "      <td>-0.783547</td>\n",
       "      <td>-1.706389</td>\n",
       "      <td>-1.080293</td>\n",
       "      <td>-0.302161</td>\n",
       "      <td>-1.018138</td>\n",
       "    </tr>\n",
       "    <tr>\n",
       "      <th>Sample8</th>\n",
       "      <td>1.948748</td>\n",
       "      <td>-0.425038</td>\n",
       "      <td>-0.647906</td>\n",
       "      <td>0.255883</td>\n",
       "      <td>-1.864543</td>\n",
       "      <td>-0.288675</td>\n",
       "      <td>0.000000</td>\n",
       "      <td>-0.317733</td>\n",
       "      <td>-1.027348</td>\n",
       "      <td>1.203254</td>\n",
       "    </tr>\n",
       "    <tr>\n",
       "      <th>Sample9</th>\n",
       "      <td>-0.470387</td>\n",
       "      <td>-0.425038</td>\n",
       "      <td>-1.203254</td>\n",
       "      <td>-2.047065</td>\n",
       "      <td>-1.864543</td>\n",
       "      <td>-0.783547</td>\n",
       "      <td>-1.706389</td>\n",
       "      <td>-1.080293</td>\n",
       "      <td>0.423026</td>\n",
       "      <td>0.647906</td>\n",
       "    </tr>\n",
       "    <tr>\n",
       "      <th>Sample10</th>\n",
       "      <td>0.335991</td>\n",
       "      <td>-0.425038</td>\n",
       "      <td>1.018138</td>\n",
       "      <td>0.255883</td>\n",
       "      <td>1.331817</td>\n",
       "      <td>1.195940</td>\n",
       "      <td>1.137593</td>\n",
       "      <td>1.207387</td>\n",
       "      <td>0.423026</td>\n",
       "      <td>1.203254</td>\n",
       "    </tr>\n",
       "    <tr>\n",
       "      <th>Sample11</th>\n",
       "      <td>1.142370</td>\n",
       "      <td>1.275113</td>\n",
       "      <td>-1.203254</td>\n",
       "      <td>-1.279416</td>\n",
       "      <td>0.053273</td>\n",
       "      <td>1.195940</td>\n",
       "      <td>0.000000</td>\n",
       "      <td>-0.317733</td>\n",
       "      <td>-1.027348</td>\n",
       "      <td>-1.018138</td>\n",
       "    </tr>\n",
       "    <tr>\n",
       "      <th>Sample12</th>\n",
       "      <td>1.142370</td>\n",
       "      <td>0.708396</td>\n",
       "      <td>-0.647906</td>\n",
       "      <td>0.255883</td>\n",
       "      <td>0.053273</td>\n",
       "      <td>1.195940</td>\n",
       "      <td>0.568796</td>\n",
       "      <td>1.207387</td>\n",
       "      <td>-1.752536</td>\n",
       "      <td>1.203254</td>\n",
       "    </tr>\n",
       "  </tbody>\n",
       "</table>\n",
       "</div>"
      ],
      "text/plain": [
       "                1         2         3         4         5         6   \\\n",
       "0                                                                      \n",
       "Sample1  -0.470387  0.708396  0.462790  1.023533  0.692545  1.195940   \n",
       "Sample2  -1.276766 -0.991754  1.018138  1.023533 -0.585999 -0.783547   \n",
       "Sample3  -0.470387 -1.558471  1.018138  0.255883  0.053273 -1.278418   \n",
       "Sample4  -0.470387 -0.425038  1.018138  0.255883  0.692545 -0.783547   \n",
       "Sample5   0.335991 -0.991754  1.018138 -1.279416  0.692545 -0.783547   \n",
       "Sample6  -0.470387  1.275113 -0.647906  0.255883  0.692545  0.701068   \n",
       "Sample7  -1.276766  1.275113 -1.203254  1.023533  0.053273 -0.783547   \n",
       "Sample8   1.948748 -0.425038 -0.647906  0.255883 -1.864543 -0.288675   \n",
       "Sample9  -0.470387 -0.425038 -1.203254 -2.047065 -1.864543 -0.783547   \n",
       "Sample10  0.335991 -0.425038  1.018138  0.255883  1.331817  1.195940   \n",
       "Sample11  1.142370  1.275113 -1.203254 -1.279416  0.053273  1.195940   \n",
       "Sample12  1.142370  0.708396 -0.647906  0.255883  0.053273  1.195940   \n",
       "\n",
       "                7         8         9         10  \n",
       "0                                                 \n",
       "Sample1   0.000000 -1.080293  0.423026 -0.462790  \n",
       "Sample2   1.137593  1.207387  1.148213  1.203254  \n",
       "Sample3   0.568796  0.444827  0.423026 -0.462790  \n",
       "Sample4   0.568796  1.207387  1.148213 -1.018138  \n",
       "Sample5  -1.137593 -0.317733  1.148213 -0.462790  \n",
       "Sample6   0.568796 -1.080293 -1.027348 -1.018138  \n",
       "Sample7  -1.706389 -1.080293 -0.302161 -1.018138  \n",
       "Sample8   0.000000 -0.317733 -1.027348  1.203254  \n",
       "Sample9  -1.706389 -1.080293  0.423026  0.647906  \n",
       "Sample10  1.137593  1.207387  0.423026  1.203254  \n",
       "Sample11  0.000000 -0.317733 -1.027348 -1.018138  \n",
       "Sample12  0.568796  1.207387 -1.752536  1.203254  "
      ]
     },
     "execution_count": 3,
     "metadata": {},
     "output_type": "execute_result"
    }
   ],
   "source": [
    "zscore"
   ]
  },
  {
   "cell_type": "code",
   "execution_count": 4,
   "metadata": {},
   "outputs": [],
   "source": [
    "# Calculate correlation matrix\n",
    "M = 12\n",
    "R = np.dot(zscore.T, zscore)\n",
    "R = R / M"
   ]
  },
  {
   "cell_type": "code",
   "execution_count": 5,
   "metadata": {},
   "outputs": [],
   "source": [
    "# Calculate eigenvalues\n",
    "la, v = np.linalg.eig(R)\n",
    "la_index = np.argsort(la)[::-1]"
   ]
  },
  {
   "cell_type": "code",
   "execution_count": 6,
   "metadata": {},
   "outputs": [],
   "source": [
    "# A: Factor loading matrix\n",
    "A = np.zeros(v.shape)\n",
    "\n",
    "for i in range(len(la)):\n",
    "    A[i] = np.sqrt(la[la_index[i]]) * v[la_index[i]]\n",
    "A = pd.DataFrame(A)"
   ]
  },
  {
   "cell_type": "code",
   "execution_count": 7,
   "metadata": {
    "cell_style": "center"
   },
   "outputs": [],
   "source": [
    "# F: Factor scores\n",
    "F = np.matrix(zscore) * np.linalg.inv(R) * np.matrix(A)\n",
    "F = np.squeeze(np.asarray(F))\n",
    "F = pd.DataFrame(F)"
   ]
  },
  {
   "cell_type": "code",
   "execution_count": 8,
   "metadata": {},
   "outputs": [],
   "source": [
    "# normalize data between -1 and 1\n",
    "A_scaled = 2 * (A - A.min()) / (A.max() - A.min()) - 1\n",
    "F_scaled = 2 * (F - F.min()) / (F.max() - F.min()) - 1"
   ]
  },
  {
   "cell_type": "markdown",
   "metadata": {
    "cell_style": "center"
   },
   "source": [
    "### 因子負荷量ベクトル"
   ]
  },
  {
   "cell_type": "code",
   "execution_count": 9,
   "metadata": {
    "cell_style": "center"
   },
   "outputs": [
    {
     "data": {
      "text/html": [
       "<div>\n",
       "<style scoped>\n",
       "    .dataframe tbody tr th:only-of-type {\n",
       "        vertical-align: middle;\n",
       "    }\n",
       "\n",
       "    .dataframe tbody tr th {\n",
       "        vertical-align: top;\n",
       "    }\n",
       "\n",
       "    .dataframe thead th {\n",
       "        text-align: right;\n",
       "    }\n",
       "</style>\n",
       "<table border=\"1\" class=\"dataframe\">\n",
       "  <thead>\n",
       "    <tr style=\"text-align: right;\">\n",
       "      <th></th>\n",
       "      <th>0</th>\n",
       "      <th>1</th>\n",
       "    </tr>\n",
       "  </thead>\n",
       "  <tbody>\n",
       "    <tr>\n",
       "      <th>0</th>\n",
       "      <td>-0.562246</td>\n",
       "      <td>-1.000000</td>\n",
       "    </tr>\n",
       "    <tr>\n",
       "      <th>1</th>\n",
       "      <td>-1.000000</td>\n",
       "      <td>-0.264096</td>\n",
       "    </tr>\n",
       "    <tr>\n",
       "      <th>2</th>\n",
       "      <td>1.000000</td>\n",
       "      <td>0.644023</td>\n",
       "    </tr>\n",
       "    <tr>\n",
       "      <th>3</th>\n",
       "      <td>0.212241</td>\n",
       "      <td>-0.012562</td>\n",
       "    </tr>\n",
       "    <tr>\n",
       "      <th>4</th>\n",
       "      <td>0.120036</td>\n",
       "      <td>0.265915</td>\n",
       "    </tr>\n",
       "    <tr>\n",
       "      <th>5</th>\n",
       "      <td>-0.222586</td>\n",
       "      <td>-0.146713</td>\n",
       "    </tr>\n",
       "    <tr>\n",
       "      <th>6</th>\n",
       "      <td>0.156014</td>\n",
       "      <td>0.055801</td>\n",
       "    </tr>\n",
       "    <tr>\n",
       "      <th>7</th>\n",
       "      <td>0.130900</td>\n",
       "      <td>0.517049</td>\n",
       "    </tr>\n",
       "    <tr>\n",
       "      <th>8</th>\n",
       "      <td>0.029291</td>\n",
       "      <td>1.000000</td>\n",
       "    </tr>\n",
       "    <tr>\n",
       "      <th>9</th>\n",
       "      <td>-0.031212</td>\n",
       "      <td>0.799671</td>\n",
       "    </tr>\n",
       "  </tbody>\n",
       "</table>\n",
       "</div>"
      ],
      "text/plain": [
       "          0         1\n",
       "0 -0.562246 -1.000000\n",
       "1 -1.000000 -0.264096\n",
       "2  1.000000  0.644023\n",
       "3  0.212241 -0.012562\n",
       "4  0.120036  0.265915\n",
       "5 -0.222586 -0.146713\n",
       "6  0.156014  0.055801\n",
       "7  0.130900  0.517049\n",
       "8  0.029291  1.000000\n",
       "9 -0.031212  0.799671"
      ]
     },
     "execution_count": 9,
     "metadata": {},
     "output_type": "execute_result"
    }
   ],
   "source": [
    "A_scaled[A_scaled.columns[0:2]]"
   ]
  },
  {
   "cell_type": "markdown",
   "metadata": {
    "cell_style": "center"
   },
   "source": [
    "### 因子得点ベクトル"
   ]
  },
  {
   "cell_type": "code",
   "execution_count": 10,
   "metadata": {
    "cell_style": "center"
   },
   "outputs": [
    {
     "data": {
      "text/html": [
       "<div>\n",
       "<style scoped>\n",
       "    .dataframe tbody tr th:only-of-type {\n",
       "        vertical-align: middle;\n",
       "    }\n",
       "\n",
       "    .dataframe tbody tr th {\n",
       "        vertical-align: top;\n",
       "    }\n",
       "\n",
       "    .dataframe thead th {\n",
       "        text-align: right;\n",
       "    }\n",
       "</style>\n",
       "<table border=\"1\" class=\"dataframe\">\n",
       "  <thead>\n",
       "    <tr style=\"text-align: right;\">\n",
       "      <th></th>\n",
       "      <th>0</th>\n",
       "      <th>1</th>\n",
       "    </tr>\n",
       "  </thead>\n",
       "  <tbody>\n",
       "    <tr>\n",
       "      <th>0</th>\n",
       "      <td>0.849055</td>\n",
       "      <td>-0.026781</td>\n",
       "    </tr>\n",
       "    <tr>\n",
       "      <th>1</th>\n",
       "      <td>0.012196</td>\n",
       "      <td>-0.374987</td>\n",
       "    </tr>\n",
       "    <tr>\n",
       "      <th>2</th>\n",
       "      <td>0.991383</td>\n",
       "      <td>1.000000</td>\n",
       "    </tr>\n",
       "    <tr>\n",
       "      <th>3</th>\n",
       "      <td>-0.415083</td>\n",
       "      <td>-0.705630</td>\n",
       "    </tr>\n",
       "    <tr>\n",
       "      <th>4</th>\n",
       "      <td>0.277757</td>\n",
       "      <td>-0.536787</td>\n",
       "    </tr>\n",
       "    <tr>\n",
       "      <th>5</th>\n",
       "      <td>-0.289492</td>\n",
       "      <td>-0.456135</td>\n",
       "    </tr>\n",
       "    <tr>\n",
       "      <th>6</th>\n",
       "      <td>-0.598110</td>\n",
       "      <td>-0.200540</td>\n",
       "    </tr>\n",
       "    <tr>\n",
       "      <th>7</th>\n",
       "      <td>-0.676201</td>\n",
       "      <td>-1.000000</td>\n",
       "    </tr>\n",
       "    <tr>\n",
       "      <th>8</th>\n",
       "      <td>0.015183</td>\n",
       "      <td>0.504350</td>\n",
       "    </tr>\n",
       "    <tr>\n",
       "      <th>9</th>\n",
       "      <td>-1.000000</td>\n",
       "      <td>-0.430726</td>\n",
       "    </tr>\n",
       "    <tr>\n",
       "      <th>10</th>\n",
       "      <td>-0.456058</td>\n",
       "      <td>-0.351084</td>\n",
       "    </tr>\n",
       "    <tr>\n",
       "      <th>11</th>\n",
       "      <td>1.000000</td>\n",
       "      <td>0.205130</td>\n",
       "    </tr>\n",
       "  </tbody>\n",
       "</table>\n",
       "</div>"
      ],
      "text/plain": [
       "           0         1\n",
       "0   0.849055 -0.026781\n",
       "1   0.012196 -0.374987\n",
       "2   0.991383  1.000000\n",
       "3  -0.415083 -0.705630\n",
       "4   0.277757 -0.536787\n",
       "5  -0.289492 -0.456135\n",
       "6  -0.598110 -0.200540\n",
       "7  -0.676201 -1.000000\n",
       "8   0.015183  0.504350\n",
       "9  -1.000000 -0.430726\n",
       "10 -0.456058 -0.351084\n",
       "11  1.000000  0.205130"
      ]
     },
     "execution_count": 10,
     "metadata": {},
     "output_type": "execute_result"
    }
   ],
   "source": [
    "F_scaled[F_scaled.columns[0:2]]"
   ]
  },
  {
   "cell_type": "code",
   "execution_count": 11,
   "metadata": {
    "scrolled": true
   },
   "outputs": [
    {
     "data": {
      "text/plain": [
       "array([9, 8, 5, 7, 4, 6, 3, 2, 1])"
      ]
     },
     "execution_count": 11,
     "metadata": {},
     "output_type": "execute_result"
    }
   ],
   "source": [
    "# distance (A)\n",
    "distance_A = []\n",
    "for i in range(9):\n",
    "    diff = np.array(A_scaled.iloc[9, 0:2]) - np.array(A_scaled.iloc[i, 0:2])\n",
    "    distance_A.append(np.linalg.norm(diff))\n",
    "\n",
    "distance_A = np.argsort(distance_A)\n",
    "distance_A+1"
   ]
  },
  {
   "cell_type": "code",
   "execution_count": 12,
   "metadata": {},
   "outputs": [
    {
     "data": {
      "text/plain": [
       "array([ 9,  3,  7,  2, 12,  1, 11,  6,  5,  4, 10,  8])"
      ]
     },
     "execution_count": 12,
     "metadata": {},
     "output_type": "execute_result"
    }
   ],
   "source": [
    "# distance (F)\n",
    "distance_F = []\n",
    "for i in range(12):\n",
    "    diff = np.array(A_scaled.iloc[9, 0:2]) - np.array(F_scaled.iloc[i, 0:2])\n",
    "    distance_F.append(np.linalg.norm(diff))\n",
    "\n",
    "distance_F = np.argsort(distance_F)\n",
    "distance_F+1"
   ]
  },
  {
   "cell_type": "code",
   "execution_count": 13,
   "metadata": {},
   "outputs": [
    {
     "data": {
      "text/plain": [
       "<matplotlib.legend.Legend at 0x7f01a1c5a358>"
      ]
     },
     "execution_count": 13,
     "metadata": {},
     "output_type": "execute_result"
    },
    {
     "data": {
      "image/png": "[encoded data removed]",
      "text/plain": [
       "<Figure size 600x400 with 1 Axes>"
      ]
     },
     "metadata": {
      "needs_background": "light"
     },
     "output_type": "display_data"
    }
   ],
   "source": [
    "# Plot\n",
    "plt.figure(dpi=100)\n",
    "\n",
    "p1 = sns.scatterplot(A_scaled[0], A_scaled[1], label='Factor loading')\n",
    "p2 = sns.scatterplot(F_scaled[0], F_scaled[1], label='Factor scores')\n",
    "\n",
    "for line in range(0, A_scaled.shape[0]):\n",
    "    p1.text(A_scaled[0][line]+0.05, A_scaled[1][line], A_scaled.index[line]+1)\n",
    "for line in range(0, F_scaled.shape[0]):\n",
    "    p1.text(F_scaled[0][line]+0.05, F_scaled[1][line], F_scaled.index[line]+1)\n",
    "\n",
    "\n",
    "plt.xticks(np.arange(-1.0, 1.5, 0.5))\n",
    "plt.yticks(np.arange(-1.0, 1.5, 0.5))\n",
    "plt.xlabel('Factor 1')\n",
    "plt.ylabel('Factor 2')\n",
    "plt.legend()"
   ]
  },
  {
   "cell_type": "markdown",
   "metadata": {},
   "source": [
    "　上図が因子負荷量と因子得点のプロットである。感性語「好き」は、青の10に対応している。ユークリッド距離を用いて、「好き」からの距離を求めた結果、最も青点10に近い感性語は青点9「退屈」で、次に近い感性語は青点8「自然」であった。また、授業資料の因子負荷量と因子得点の対応付け(4)をもとにすると、青点9と青点8は共にsoftであった。  \n",
    " 　人工的なデザインよりも、自然的なデザインを好むため、青点8については自身の感性と一致している。青点9の「退屈」は定義が不明であるが、同じような状態が続いているような抽象絵画やミニマル・アートのことを指しているのであれば、私の好みと一致している。また、今回最も距離が遠くなった青点1の「かわいい」は個人的に苦手であるため、自身の感性を大まかではあるが正しく表現することができていると考える。  \n",
    "　サンプルについては、サンプル9が最も近く、次にサンプル3が近い結果となった。サンプル9は自然的、サンプル3はシンプルで派手というのが私のイメージであり、前者は好きだが、後者はあまり好きではない。図のサンプル9を見ると、感性語「自然」に近いことからイメージが当たっている。サンプル3は、感性語「自然」と「退屈」から離れており、soft and warmであるためイメージが異なっていた。"
   ]
  },
  {
   "cell_type": "code",
   "execution_count": null,
   "metadata": {},
   "outputs": [],
   "source": []
  }
 ],
 "metadata": {
  "kernelspec": {
   "display_name": "Python 3",
   "language": "python",
   "name": "python3"
  },
  "language_info": {
   "codemirror_mode": {
    "name": "ipython",
    "version": 3
   },
   "file_extension": ".py",
   "mimetype": "text/x-python",
   "name": "python",
   "nbconvert_exporter": "python",
   "pygments_lexer": "ipython3",
   "version": "3.6.5"
  },
  "varInspector": {
   "cols": {
    "lenName": 16,
    "lenType": 16,
    "lenVar": 40
   },
   "kernels_config": {
    "python": {
     "delete_cmd_postfix": "",
     "delete_cmd_prefix": "del ",
     "library": "var_list.py",
     "varRefreshCmd": "print(var_dic_list())"
    },
    "r": {
     "delete_cmd_postfix": ") ",
     "delete_cmd_prefix": "rm(",
     "library": "var_list.r",
     "varRefreshCmd": "cat(var_dic_list()) "
    }
   },
   "types_to_exclude": [
    "module",
    "function",
    "builtin_function_or_method",
    "instance",
    "_Feature"
   ],
   "window_display": false
  }
 },
 "nbformat": 4,
 "nbformat_minor": 2
}
